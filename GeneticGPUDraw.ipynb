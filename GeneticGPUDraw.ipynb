{
  "nbformat": 4,
  "nbformat_minor": 0,
  "metadata": {
    "colab": {
      "name": "GeneticGPUDraw.ipynb",
      "provenance": [],
      "collapsed_sections": [],
      "authorship_tag": "ABX9TyMZ8YWlIXiQwkrisu3UyJsz",
      "include_colab_link": true
    },
    "kernelspec": {
      "name": "python3",
      "display_name": "Python 3"
    },
    "language_info": {
      "name": "python"
    },
    "accelerator": "GPU",
    "gpuClass": "standard"
  },
  "cells": [
    {
      "cell_type": "markdown",
      "metadata": {
        "id": "view-in-github",
        "colab_type": "text"
      },
      "source": [
        "<a href=\"https://colab.research.google.com/github/joshbarrass/genetic_gpu_draw/blob/EGL/GeneticGPUDraw.ipynb\" target=\"_parent\"><img src=\"https://colab.research.google.com/assets/colab-badge.svg\" alt=\"Open In Colab\"/></a>"
      ]
    },
    {
      "cell_type": "code",
      "execution_count": null,
      "metadata": {
        "id": "bcbcO_3E8ur2",
        "cellView": "form"
      },
      "outputs": [],
      "source": [
        "#@title Download Source Code\n",
        "#@markdown Also checks out the branch using EGL, which is compatible with Colab\n",
        "\n",
        "!rm -rf genetic_gpu_draw\n",
        "!git clone https://github.com/joshbarrass/genetic_gpu_draw && cd genetic_gpu_draw && git checkout EGL"
      ]
    },
    {
      "cell_type": "code",
      "source": [
        "#@title Install Build Dependencies\n",
        "#@markdown Some additional libraries are required, and a more recent version of g++ is required to take advantage of C++ 17 features.\n",
        "\n",
        "!sudo apt install -y build-essential libglfw3 libglfw3-dev\n",
        "# setup more modern g++ compiler\n",
        "!sudo add-apt-repository -y ppa:ubuntu-toolchain-r/test\n",
        "!sudo apt install -y g++-9 gcc-9 libstdc++-9-dev"
      ],
      "metadata": {
        "id": "I6qQRanJ9OIl",
        "cellView": "form"
      },
      "execution_count": null,
      "outputs": []
    },
    {
      "cell_type": "code",
      "source": [
        "#@title Compile\n",
        "\n",
        "!cmake -DCMAKE_BUILD_TYPE=Release -DCMAKE_CXX_COMPILER=/usr/bin/g++-9 ./genetic_gpu_draw && make"
      ],
      "metadata": {
        "id": "St8NNXag9TLL",
        "cellView": "form"
      },
      "execution_count": null,
      "outputs": []
    },
    {
      "cell_type": "code",
      "source": [
        "#@title Upload Image File\n",
        "from google.colab import files\n",
        "uploaded = files.upload()"
      ],
      "metadata": {
        "cellView": "form",
        "id": "awvJzJWZ-OSX"
      },
      "execution_count": null,
      "outputs": []
    },
    {
      "cell_type": "code",
      "source": [
        "#@title Set Program Parameters\n",
        "#@markdown You must re-run this cell to change the suffix or the number of triangles, but it is not necessary to do so to change the input file.\n",
        "\n",
        "import os\n",
        "import ipywidgets as widgets\n",
        "from IPython import display\n",
        "\n",
        "file_select = widgets.Dropdown(\n",
        "    options=[\"\"] + [i for i in os.listdir() if os.path.splitext(i)[-1].lower() in [\".png\", \".jpg\", \".jpeg\", \".bmp\"]],\n",
        "    value=[key for key in uploaded.keys()][0] if \"INPUT_FILE\" not in globals() else INPUT_FILE,\n",
        "    description='INPUT_FILE:',\n",
        "    disabled=False,\n",
        ")\n",
        "\n",
        "display.display(file_select)\n",
        "OUTPUT_SUFFIX = \"-tris\" #@param {type:\"string\"}\n",
        "TRIANGLES = 1008 #@param {type:\"integer\"}\n",
        "#SEED =  None#@param {type:\"raw\"}"
      ],
      "metadata": {
        "cellView": "form",
        "id": "o6fd13OB6NGj"
      },
      "execution_count": null,
      "outputs": []
    },
    {
      "cell_type": "code",
      "source": [
        "#@title Run\n",
        "INPUT_FILE = file_select.value\n",
        "assert INPUT_FILE != \"\"\n",
        "assert os.path.isfile(INPUT_FILE)\n",
        "OUTPUT_FN = os.path.splitext(INPUT_FILE)[0] + OUTPUT_SUFFIX\n",
        "OUTPUT_FILE = OUTPUT_FN + \".png\"\n",
        "OUTPUT_SVG = OUTPUT_FN + \".svg\"\n",
        "!./drawer -f \"$INPUT_FILE\" -o \"$OUTPUT_FILE\" -v \"$OUTPUT_SVG\" -n $TRIANGLES"
      ],
      "metadata": {
        "id": "rrJ7G54IMMMH",
        "cellView": "form"
      },
      "execution_count": null,
      "outputs": []
    },
    {
      "cell_type": "code",
      "source": [
        "#@title Display Rendered Image\n",
        "\n",
        "display.display(display.Image(OUTPUT_FILE))"
      ],
      "metadata": {
        "cellView": "form",
        "id": "at2DONZD4mEJ"
      },
      "execution_count": null,
      "outputs": []
    },
    {
      "cell_type": "code",
      "source": [
        "#@title Display SVG Image\n",
        "\n",
        "display.display(display.SVG(filename=OUTPUT_SVG))"
      ],
      "metadata": {
        "cellView": "form",
        "id": "vjB-svE4D-Y8"
      },
      "execution_count": null,
      "outputs": []
    },
    {
      "cell_type": "code",
      "source": [
        ""
      ],
      "metadata": {
        "id": "SkmkvMKLEFwf"
      },
      "execution_count": null,
      "outputs": []
    }
  ]
}